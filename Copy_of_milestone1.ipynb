{
  "nbformat": 4,
  "nbformat_minor": 0,
  "metadata": {
    "colab": {
      "name": "Copy of milestone1",
      "provenance": [],
      "collapsed_sections": [],
      "include_colab_link": true
    },
    "kernelspec": {
      "name": "python3",
      "display_name": "Python 3"
    },
    "language_info": {
      "name": "python"
    }
  },
  "cells": [
    {
      "cell_type": "markdown",
      "metadata": {
        "id": "view-in-github",
        "colab_type": "text"
      },
      "source": [
        "<a href=\"https://colab.research.google.com/github/Sami214b/CS-/blob/main/Copy_of_milestone1.ipynb\" target=\"_parent\"><img src=\"https://colab.research.google.com/assets/colab-badge.svg\" alt=\"Open In Colab\"/></a>"
      ]
    },
    {
      "cell_type": "code",
      "source": [
        "#done by Prachi Patel\n",
        "def s(dna):\n",
        " # Makes code uppercase\n",
        " dna = dna.upper()\n",
        " # counts how many times A,C,G, and T occur \n",
        " count_A = dna.count('A')\n",
        " count_C = dna.count('C')\n",
        " count_G = dna.count('G')\n",
        " count_T = dna.count('T')\n",
        " # creates an empty dictionary \n",
        " count_times={}\n",
        " # adds keys (A, C, G, T) to dictinaries and gives them values of how many times they occured\n",
        " count_times= {\"A\": count_A, \"C\": count_C, \"G\": count_G, \"T\" : count_T}\n",
        " return count_times"
      ],
      "metadata": {
        "id": "2iVoYapAym3l"
      },
      "execution_count": null,
      "outputs": []
    },
    {
      "cell_type": "code",
      "source": [
        "#done by Prachi Patel\n",
        "def dna2rna(dna):\n",
        "  # creates an empty string\n",
        "     rna = ''\n",
        "  # looks in the dna string \n",
        "     for symbol in dna:\n",
        "  # if there is A, A is added to the rna string\n",
        "         if symbol == 'A':\n",
        "             rna = rna + 'A'\n",
        "  #if there is T, U is added to the rna string\n",
        "         elif symbol == 'T':\n",
        "             rna = rna + 'U'\n",
        "  #if there is C, C is added to the rna string\n",
        "         elif symbol == 'C':\n",
        "             rna = rna + 'C'\n",
        "  #if there is G, G is added to the rna string\n",
        "         elif symbol == 'G':\n",
        "             rna = rna + 'G'\n",
        "     return rna"
      ],
      "metadata": {
        "id": "0bGVJB111i6w"
      },
      "execution_count": null,
      "outputs": []
    },
    {
      "cell_type": "code",
      "source": [
        "#done by Prachi Patel\n",
        "def reverse_complement(dna):\n",
        "# An empty string is created for the complimentary string\n",
        " comp = ''\n",
        "\n",
        " for symbol in dna:\n",
        "   # looks to see if A is in dna and if it is add T to the comp string \n",
        "         if symbol == 'A':\n",
        "             comp += 'T'\n",
        "  # looks to see if T is in dna and if it is add A to the comp string\n",
        "         elif symbol == 'T':\n",
        "             comp += 'A'\n",
        "  # looks to see if C is in dna and if it is add G to the comp string\n",
        "         elif symbol == 'C':\n",
        "             comp += 'G'\n",
        "# looks to see if G is in dna and if it is add C to the comp string\n",
        "         elif symbol == 'G':\n",
        "             comp += 'C'\n",
        " reverse = comp[::-1]\n",
        " return reverse"
      ],
      "metadata": {
        "id": "xW82Ft-FaTq3"
      },
      "execution_count": null,
      "outputs": []
    },
    {
      "cell_type": "code",
      "source": [
        "# function 4 done by Yizhi Zhang\n",
        "# we define the two function to calculate the probability of offspring f two randomly chosen allele.\n",
        "def fact(n):\n",
        "  bas = 1\n",
        "  for i in range(2,n+1):\n",
        "    bas = bas*i\n",
        "  return bas\n",
        "\n",
        "def comb(n,k):\n",
        "  result = fact(n)/(fact(k)*fact(n-k))\n",
        "  return result\n",
        "\n",
        "def mendels_law(hom, het, rec):\n",
        "# Probability of Dominant(hom,hom)=1\n",
        "# Probability of Dominant(hom,het)=1 \n",
        "# Probability of Dominant(hom,rec)=1\n",
        "# Probability of Dominant(het,het)=0.75\n",
        "# Probability of Dominant(het,rec)=0.5\n",
        "# Probability of Dominant(rec,rec)=0\n",
        "# Probability of offspring of two randomly choosn allele will bw dominant is the following part:\n",
        "    probability = 1*(float(comb(hom,2))) + 1*float(hom*het) + 1*float(hom*rec) + 0.75*float(comb(het, 2)) + 0.5*float(het*rec)\n",
        "# Probability has to be divided be all the possibilities\n",
        "    probability = probability/(float(comb(het+hom+rec,2)))\n",
        "    return probability\n",
        "print(mendels_law(2,2,2))\n"
      ],
      "metadata": {
        "id": "oMbklbXraUNZ",
        "colab": {
          "base_uri": "https://localhost:8080/"
        },
        "outputId": "4b4271cb-f3a7-4dc2-8759-15538543adfe"
      },
      "execution_count": null,
      "outputs": [
        {
          "output_type": "stream",
          "name": "stdout",
          "text": [
            "0.7833333333333333\n"
          ]
        }
      ]
    },
    {
      "cell_type": "code",
      "source": [
        "# function 5 done by Yizhi Zhang\n",
        "def fibonacci_rabbits(n, k):\n",
        "# The first two items are 1\n",
        "    if n<= 2:\n",
        "        return 1\n",
        "# The (n-2)items will contribute by a factor of k and the (n-1)items will contribute by a factor of 1\n",
        "    else:\n",
        "        return (fibonacci_rabbits(n-1, k) + fibonacci_rabbits(n-2, k)*k)\n",
        "    print(fibonaccis_rabbits(n,k).list)\n",
        "    \n",
        "fibonacci_rabbits(6,3)"
      ],
      "metadata": {
        "id": "MXQQOfDZaVUM",
        "colab": {
          "base_uri": "https://localhost:8080/"
        },
        "outputId": "d4ea6416-b9f9-49ef-8992-7fdbafa01ec7"
      },
      "execution_count": null,
      "outputs": [
        {
          "output_type": "execute_result",
          "data": {
            "text/plain": [
              "40"
            ]
          },
          "metadata": {},
          "execution_count": 21
        }
      ]
    },
    {
      "cell_type": "code",
      "source": [
        "# function 6 done by Yizhi Zhang\n",
        "def gc_content(dna_list):\n",
        "# number of gc initialized to 0.0\n",
        "    number_gc = 0.0\n",
        "# create a loop to run every element of dna_list\n",
        "    for i in range(len(dna_list)):\n",
        "# count initialized to 0\n",
        "        count = 0 \n",
        "# create a loop to run element of each element in dna_list\n",
        "        for j in range(len(dna_list[i])):\n",
        "# if character is 'G' or 'C', we increase the count\n",
        "            if dna_list[i][j] == 'G' or dna_list[i][j] == 'C':\n",
        "                count += 1\n",
        "# we compute the probability of gc_con\n",
        "        gc_con = ((count * 1.0)/len(dna_list[i]))*100.0\n",
        "# we find the max gc_con by comparing them one by one\n",
        "        if gc_con > number_gc:\n",
        "            index = i\n",
        "            number_gc = gc_con\n",
        "    return index, float('%.6f'%number_gc)\n"
      ],
      "metadata": {
        "id": "zGpnj9hvaVwh"
      },
      "execution_count": null,
      "outputs": []
    },
    {
      "cell_type": "code",
      "source": [
        "#done by Paige Smorynski \n",
        "def rna2codon(rna):\n",
        "    rna = rna.upper()\n",
        "    rna_dict = { \n",
        "          'UUU': 'F', 'UUC': 'F', 'UUA': 'L', 'UUG': 'L',        'CUU': 'L', 'CUC': 'L', 'CUA': 'L', 'CUG': 'L',\n",
        "          'AUU': 'I', 'AUC': 'I', 'AUA': 'I', 'AUG': 'M',        'GUU': 'V', 'GUC': 'V', 'GUA': 'V', 'GUG': 'V',\n",
        "\n",
        "          'UCU': 'S', 'UCC': 'S', 'UCA': 'S', 'UCG': 'S',        'CCU': 'P', 'CCC': 'P', 'CCA': 'P', 'CCG': 'P',\n",
        "          'ACU': 'T', 'ACC': 'T', 'ACA': 'T', 'ACG': 'T',        'GCU': 'A', 'GCC': 'A', 'GCA': 'A', 'GCG': 'A',\n",
        "\n",
        "          'UAU': 'Y', 'UAC': 'Y', 'UAA': '', 'UAG': '',          'CAU': 'H', 'CAC': 'H', 'CAA': 'Q', 'CAG': 'Q',\n",
        "          'AAU': 'N', 'AAC': 'N', 'AAA': 'K', 'AAG': 'K',        'GAU': 'D', 'GAC': 'D', 'GAA': 'E', 'GAG': 'E',\n",
        "\n",
        "          'UGU': 'C', 'UGC': 'C', 'UGA': '', 'UGG': 'W',         'CGU': 'R', 'CGC': 'R', 'CGA': 'R', 'CGG': 'R',\n",
        "          'AGU': 'S', 'AGC': 'S', 'AGA': 'R', 'AGG': 'R',        'GGU': 'G', 'GGC': 'G', 'GGA': 'G', 'GGG': 'G',\n",
        "          }\n",
        "    codons = ''\n",
        "    for i in range( 0,  int(len( rna ) / 3 )):\n",
        "      # if key is one of stop codes, return codons\n",
        "      if rna[ 3*i:(3*i)+3 ] == 'UAA':\n",
        "        return codons\n",
        "      elif rna[ 3*i:(3*i)+3 ] == 'UAG':\n",
        "        return codons\n",
        "      elif rna[ 3*i:(3*i)+3 ] == 'UGA': \n",
        "        return codons\n",
        "      # take rna string by groups of 3 as key for dictionary\n",
        "      else: \n",
        "        t = rna_dict[rna[ 3*i:(3*i)+3 ]]\n",
        "      #add value from dictionary retrieved from key to codon string \n",
        "        codons = codons + t\n",
        "    return codons"
      ],
      "metadata": {
        "id": "CirjSozvIMyH"
      },
      "execution_count": null,
      "outputs": []
    },
    {
      "cell_type": "code",
      "execution_count": null,
      "metadata": {
        "id": "j0gVDiZTGTXe"
      },
      "outputs": [],
      "source": [
        "#done by Paige Smorynski \n",
        "def locate_substring(dna_snippet, dna): \n",
        "#define empty positions list \n",
        "  positions = []\n",
        "#define endpoint for loop by subtracting length of dna_snippet from length of dna\n",
        "  endpoint = len(dna)-len(dna_snippet)\n",
        "#for loop to check if parts of dna are equal to dna_snippet\n",
        "  for i in range(0, endpoint):\n",
        "     if dna[ i : len(dna_snippet) + i] == dna_snippet:\n",
        "#if they are add this index to the positions list\n",
        "        positions.append(i)\n",
        "  return positions "
      ]
    },
    {
      "cell_type": "code",
      "source": [
        "#done by Paige Smorynski \n",
        "def hamming_dist(dna1, dna2): \n",
        "  for i in range(0, len(dna1)):\n",
        "#initialize the hamming distance at 0\n",
        "    distance = 0\n",
        "# check if dna1 is longer than dna2\n",
        "    if len(dna1) - len(dna2) > 0:\n",
        "#if so the end of range will be length of dna1\n",
        "      finish = len(dna1)\n",
        "    else:\n",
        "#if not the end of range will be lenght of dna2\n",
        "      finish = len(dna2)\n",
        "#for loop to check each letter in dna1 against each letter in dna2 until the finish point found above \n",
        "    for i in range(0, finish):\n",
        "      if dna1[i] != dna2[i]:\n",
        "#if the characters are not equal to each other add one to the hamming distance\n",
        "        distance = distance + 1\n",
        "    return distance\n"
      ],
      "metadata": {
        "id": "n35ZmGm4ShJg"
      },
      "execution_count": null,
      "outputs": []
    },
    {
      "cell_type": "code",
      "source": [
        "#done by Samriddhi Bhatia\n",
        "def count_dom_phenotype(genotypes):\n",
        "    #set number of offsprings to 0.\n",
        "    o = 0\n",
        "    x = 1\n",
        "    #for loop to check how many dominant phenotype kids each couple would have. \n",
        "    for pairs in genotypes:\n",
        "      #for couples in genotype less than 3 \n",
        "        if x <= 3:\n",
        "            o += pairs * 2\n",
        "            x += 1\n",
        "      #for couples in genotype 4\n",
        "        elif x == 4:\n",
        "            o += pairs * 1.5\n",
        "            x += 1\n",
        "     #for couples in genotype 5\n",
        "        elif x == 5:\n",
        "            o += pairs * 1\n",
        "            x += 1\n",
        "     #for couples in genotype 5\n",
        "        elif x == 6:\n",
        "            o += 0\n",
        "    return o\n",
        "\n",
        "print(count_dom_phenotype([1, 0, 0, 1, 0, 1]))"
      ],
      "metadata": {
        "id": "mhs6_qalaXEw",
        "colab": {
          "base_uri": "https://localhost:8080/"
        },
        "outputId": "e2ac7cbf-c6ea-4616-ffb0-2472814b21b3"
      },
      "execution_count": null,
      "outputs": [
        {
          "output_type": "stream",
          "name": "stdout",
          "text": [
            "3.5\n"
          ]
        }
      ]
    },
    {
      "cell_type": "code",
      "source": [
        "#done by Samriddhi Bhatia\n",
        "rna2codon_table= {\n",
        "      'UUU': 'F', 'CUU': 'L', 'AUU': 'I', 'GUU': 'V',\n",
        "      'UUC': 'F', 'CUC': 'L', 'AUC': 'I', 'GUC': 'V',\n",
        "      'UUA': 'L', 'CUA': 'L', 'AUA': 'I', 'GUA': 'V',\n",
        "      'UUG': 'L', 'CUG': 'L', 'AUG': 'M', 'GUG': 'V',\n",
        "      'UCU': 'S', 'CCU': 'P', 'ACU': 'T', 'GCU': 'A',\n",
        "      'UCC': 'S', 'CCC': 'P', 'ACC': 'T', 'GCC': 'A',\n",
        "      'UCA': 'S', 'CCA': 'P', 'ACA': 'T', 'GCA': 'A',\n",
        "      'UCG': 'S', 'CCG': 'P', 'ACG': 'T', 'GCG': 'A',\n",
        "      'UAU': 'Y', 'CAU': 'H', 'AAU': 'N', 'GAU': 'D',\n",
        "      'UAC': 'Y', 'CAC': 'H', 'AAC': 'N', 'GAC': 'D',\n",
        "      'UAA': '*', 'CAA': 'Q', 'AAA': 'K', 'GAA': 'E',\n",
        "      'UAG': '*', 'CAG': 'Q', 'AAG': 'K', 'GAG': 'E',\n",
        "      'UGU': 'C', 'CGU': 'R', 'AGU': 'S', 'GGU': 'G',\n",
        "      'UGC': 'C', 'CGC': 'R', 'AGC': 'S', 'GGC': 'G',\n",
        "      'UGA': '*', 'CGA': 'R', 'AGA': 'R', 'GGA': 'G',\n",
        "      'UGG': 'W', 'CGG': 'R', 'AGG': 'R', 'GGG': 'G'\n",
        "      \n",
        "    }\n",
        "def source_rna(protein):\n",
        "  #initiate prod to 0\n",
        "    prod=1\n",
        "  #define empty count list\n",
        "    countlist=[]\n",
        "    count=0\n",
        "  #define empty value list\n",
        "    valuelst = []\n",
        "  #add values from table into empty list\n",
        "    for key,value in rna2codon_table.items() :\n",
        "        valuelst.append(value)\n",
        "  #separate variable protein into separate letters and put them into an empty list\n",
        "    x=protein\n",
        "    lst=[]\n",
        "    lst=list(x)\n",
        "  #for loop to check if values in valuelst are equal to lst. \n",
        "    for i in range(len(lst)):\n",
        "        for j in range(len(valuelst)):\n",
        "            if lst[i]==valuelst[j]:\n",
        "              #if its equal add one to count\n",
        "                count=count+1\n",
        "        #add count to countlist\n",
        "        countlist.append(count)\n",
        "        count=0\n",
        "        #for loop to multiply each value in countlist. \n",
        "    for k in range(len(countlist)):\n",
        "      prod=prod*countlist[k]\n",
        "      #multiply product by 3 to account for *\n",
        "    prod=prod*3\n",
        "\n",
        "    return prod\n",
        "    \n",
        "print(source_rna('MA'))\n",
        "    "
      ],
      "metadata": {
        "id": "bDhlDpyaaXuJ",
        "colab": {
          "base_uri": "https://localhost:8080/"
        },
        "outputId": "716de773-9e13-4257-da95-5ecfc60bc11f"
      },
      "execution_count": null,
      "outputs": [
        {
          "output_type": "stream",
          "name": "stdout",
          "text": [
            "12\n"
          ]
        }
      ]
    },
    {
      "cell_type": "code",
      "source": [
        "\n",
        "#done by Samriddhi Bhatia \n",
        "def splice_rna(dna,intron_list):\n",
        "  #convert dna to rna\n",
        "    rna = dna2rna(dna)\n",
        "    #create empty list\n",
        "    rna_list = []   \n",
        "    amino = ''\n",
        "    \n",
        "    'for i in range(0, int(len(rna)/3)):'\n",
        "    #add converted rna to empty list\n",
        "    rna_list.append(rna)\n",
        "    \n",
        "    \n",
        "    # iterate theough list to remove introns    \n",
        "    for i in intron_list:\n",
        "          while i in rna_list:\n",
        "             rna__list.remove(i) \n",
        "    \n",
        "   #convert extons to protein\n",
        "    for rna in rna_list:\n",
        "          amino += rna2codon(rna)\n",
        "          \n",
        "    return amino\n",
        "    protein = rna2codons('rna')\n",
        "    return protein\n",
        " \n",
        " \n",
        "dna=\"ATGGTCTACATAGCTGACAAACAGCACGTAGCAATCGGTCGAATCTCGAGAGGCATATGGTCACATGATCGGTCGAGCGTGTTTCAAAGTTTGCGCCTAG\"\n",
        "intron_list=[\"ATCGGTCGAA\", \"ATCGGTCGAGCGTGT\"]\n",
        "print (splice_rna(dna,intron_list))"
      ],
      "metadata": {
        "id": "nIX9YufQaYUK",
        "colab": {
          "base_uri": "https://localhost:8080/"
        },
        "outputId": "2789dede-7978-454a-e69a-0d39b280d4a6"
      },
      "execution_count": null,
      "outputs": [
        {
          "output_type": "stream",
          "name": "stdout",
          "text": [
            "MVYIADKQHVAIGRISRGIWSHDRSSVFQSLRL\n"
          ]
        }
      ]
    }
  ]
}